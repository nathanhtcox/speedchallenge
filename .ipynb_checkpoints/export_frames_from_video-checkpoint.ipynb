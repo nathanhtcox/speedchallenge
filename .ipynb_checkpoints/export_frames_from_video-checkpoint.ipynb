{
 "cells": [
  {
   "cell_type": "code",
   "execution_count": null,
   "metadata": {},
   "outputs": [],
   "source": [
    "#pull all frames from training video and store in folder for processing\n",
    "\n",
    "videoFile = \"data/train.mp4\"\n",
    "cap = cv2.VideoCapture(videoFile)   # capturing the video from the given path\n",
    "frameRate = cap.get(5) #frame rate\n",
    "x=1\n",
    "filenames=[]\n",
    "\n",
    "while(cap.isOpened()):\n",
    "    frameId = cap.get(1) #current frame number\n",
    "    ret, frame = cap.read()\n",
    "    if (ret != True):\n",
    "        break\n",
    "    filenames =\"frame%05d.jpg\" % frameId\n",
    "    path=\"data/frames/\" + filename\n",
    "    files.append(filename)\n",
    "    cv2.imwrite(path, frame)\n",
    "    \n",
    "cap.release()\n",
    "print (\"Done!\")\n",
    "print (frameId)"
   ]
  }
 ],
 "metadata": {
  "kernelspec": {
   "display_name": "Python 3",
   "language": "python",
   "name": "python3"
  },
  "language_info": {
   "codemirror_mode": {
    "name": "ipython",
    "version": 3
   },
   "file_extension": ".py",
   "mimetype": "text/x-python",
   "name": "python",
   "nbconvert_exporter": "python",
   "pygments_lexer": "ipython3",
   "version": "3.8.5"
  }
 },
 "nbformat": 4,
 "nbformat_minor": 4
}
