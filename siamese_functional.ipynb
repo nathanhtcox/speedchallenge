{
 "cells": [
  {
   "cell_type": "code",
   "execution_count": 1,
   "metadata": {},
   "outputs": [],
   "source": [
    "import keras as K\n",
    "import tensorflow as tf\n",
    "import cv2     # for capturing videos\n",
    "import math   # for mathematical operations\n",
    "import matplotlib.pyplot as plt    # for plotting the images\n",
    "%matplotlib inline\n",
    "import pandas as pd\n",
    "from keras.preprocessing import image   # for preprocessing the images\n",
    "import numpy as np    # for mathematical operations\n",
    "from keras.utils import np_utils\n",
    "from skimage.transform import resize   # for resizing images\n",
    "from keras.preprocessing.image import ImageDataGenerator\n",
    "\n",
    "from keras.layers import Dense, InputLayer, Dropout, Conv2D, MaxPooling2D, Flatten, Input, LSTM, Subtract\n",
    "\n",
    "from keras.models import Model\n",
    "\n",
    "from keras.applications.vgg16 import VGG16\n"
   ]
  },
  {
   "cell_type": "code",
   "execution_count": 5,
   "metadata": {},
   "outputs": [],
   "source": [
    "def get_siamese_network(input_shape):\n",
    "    \n",
    "    left_input = Input(input_shape)\n",
    "    right_input = Input(input_shape)\n",
    "    \n",
    "    VGG = VGG16(weights='imagenet', include_top=False)\n",
    "    \n",
    "    for layer in VGG.layers[:10]:\n",
    "        layer.trainable=False\n",
    "    \n",
    "    for layer in VGG.layers:\n",
    "        sp='     '\n",
    "        print(layer.name, sp, layer.trainable)\n",
    "\n",
    "    left_encode = VGG(left_input)\n",
    "    right_encode = VGG(right_input)\n",
    "    \n",
    "    net = Subtract()([left_encode, right_encode])\n",
    "    net = Flatten()(net)\n",
    "    output = Dense(128, activation='relu')(net)\n",
    "      \n",
    "    siamese_net = Model(inputs=[left_input, right_input], outputs=output)\n",
    "    \n",
    "    return(siamese_net)\n",
    "    "
   ]
  },
  {
   "cell_type": "code",
   "execution_count": 6,
   "metadata": {},
   "outputs": [
    {
     "name": "stdout",
     "output_type": "stream",
     "text": [
      "input_6       False\n",
      "block1_conv1       False\n",
      "block1_conv2       False\n",
      "block1_pool       False\n",
      "block2_conv1       False\n",
      "block2_conv2       False\n",
      "block2_pool       False\n",
      "block3_conv1       False\n",
      "block3_conv2       False\n",
      "block3_conv3       False\n",
      "block3_pool       True\n",
      "block4_conv1       True\n",
      "block4_conv2       True\n",
      "block4_conv3       True\n",
      "block4_pool       True\n",
      "block5_conv1       True\n",
      "block5_conv2       True\n",
      "block5_conv3       True\n",
      "block5_pool       True\n",
      "Model: \"model_1\"\n",
      "__________________________________________________________________________________________________\n",
      "Layer (type)                    Output Shape         Param #     Connected to                     \n",
      "==================================================================================================\n",
      "input_4 (InputLayer)            [(None, 480, 640, 3) 0                                            \n",
      "__________________________________________________________________________________________________\n",
      "input_5 (InputLayer)            [(None, 480, 640, 3) 0                                            \n",
      "__________________________________________________________________________________________________\n",
      "vgg16 (Functional)              (None, None, None, 5 14714688    input_4[0][0]                    \n",
      "                                                                 input_5[0][0]                    \n",
      "__________________________________________________________________________________________________\n",
      "subtract_1 (Subtract)           (None, 15, 20, 512)  0           vgg16[0][0]                      \n",
      "                                                                 vgg16[1][0]                      \n",
      "__________________________________________________________________________________________________\n",
      "flatten_1 (Flatten)             (None, 153600)       0           subtract_1[0][0]                 \n",
      "__________________________________________________________________________________________________\n",
      "dense_1 (Dense)                 (None, 128)          19660928    flatten_1[0][0]                  \n",
      "==================================================================================================\n",
      "Total params: 34,375,616\n",
      "Trainable params: 32,640,128\n",
      "Non-trainable params: 1,735,488\n",
      "__________________________________________________________________________________________________\n"
     ]
    }
   ],
   "source": [
    "model = get_siamese_network([480, 640, 3])\n",
    "\n",
    "model.summary()"
   ]
  },
  {
   "cell_type": "code",
   "execution_count": null,
   "metadata": {},
   "outputs": [],
   "source": []
  }
 ],
 "metadata": {
  "kernelspec": {
   "display_name": "Python 3",
   "language": "python",
   "name": "python3"
  },
  "language_info": {
   "codemirror_mode": {
    "name": "ipython",
    "version": 3
   },
   "file_extension": ".py",
   "mimetype": "text/x-python",
   "name": "python",
   "nbconvert_exporter": "python",
   "pygments_lexer": "ipython3",
   "version": "3.8.5"
  }
 },
 "nbformat": 4,
 "nbformat_minor": 4
}
